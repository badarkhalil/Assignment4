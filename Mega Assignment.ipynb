{
 "cells": [
  {
   "cell_type": "code",
   "execution_count": 3,
   "metadata": {},
   "outputs": [],
   "source": [
    "#QNO1    a,b,d"
   ]
  },
  {
   "cell_type": "code",
   "execution_count": 4,
   "metadata": {},
   "outputs": [],
   "source": [
    "#QNo2 b"
   ]
  },
  {
   "cell_type": "code",
   "execution_count": null,
   "metadata": {},
   "outputs": [],
   "source": [
    "#QNO3 b"
   ]
  },
  {
   "cell_type": "code",
   "execution_count": 5,
   "metadata": {},
   "outputs": [],
   "source": [
    "#QNO4 d"
   ]
  },
  {
   "cell_type": "code",
   "execution_count": null,
   "metadata": {},
   "outputs": [],
   "source": [
    "#QNO5 d"
   ]
  },
  {
   "cell_type": "code",
   "execution_count": null,
   "metadata": {},
   "outputs": [],
   "source": [
    "#QNO6 b"
   ]
  },
  {
   "cell_type": "code",
   "execution_count": null,
   "metadata": {},
   "outputs": [],
   "source": [
    "#QNO7   a,b"
   ]
  },
  {
   "cell_type": "code",
   "execution_count": null,
   "metadata": {},
   "outputs": [],
   "source": [
    "#QNO8 b"
   ]
  },
  {
   "cell_type": "code",
   "execution_count": 3,
   "metadata": {},
   "outputs": [
    {
     "name": "stdout",
     "output_type": "stream",
     "text": [
      "Sana Aftab Abbasi\n",
      "Not Exists\n"
     ]
    }
   ],
   "source": [
    "#QNO9\n",
    "dict1 = {\n",
    "    \"name\":\"Sana Aftab Abbasi\",\n",
    "    \"age\":12\n",
    "}\n",
    "if(dict1[\"name\"]==\"Sana Aftab Abbasi\"):\n",
    "    print(dict1[\"name\"])\n",
    "try:\n",
    "    if(dict1[\"name1\"]):\n",
    "        print(\"Exsists\")\n",
    "except:\n",
    "    print(\"Not Exists\")"
   ]
  },
  {
   "cell_type": "code",
   "execution_count": 9,
   "metadata": {},
   "outputs": [
    {
     "name": "stdout",
     "output_type": "stream",
     "text": [
      "Sana is repeated  2  times\n"
     ]
    }
   ],
   "source": [
    "#QNO10\n",
    "list1 = {\n",
    "    \"name\":\"Sana Aftab Abbasi\",\n",
    "    \"fname\":\"Aftab Ahmed Khan Abbasi\",\n",
    "    \"desc\":\"I am Sana Aftab Abbasi and daughter of Aftab Ahmed Khan Abbasi\"\n",
    "}\n",
    "count=0\n",
    "for i in list1.values():\n",
    "    if(i.find(\"Sana\")):\n",
    "        count+=1\n",
    "if(count%2==0 and count!=0):\n",
    "    print(\"Sana is repeated \",count,\" times\")\n",
    "else:\n",
    "    print(\"No match found\")"
   ]
  },
  {
   "cell_type": "code",
   "execution_count": 6,
   "metadata": {},
   "outputs": [
    {
     "name": "stdout",
     "output_type": "stream",
     "text": [
      "['Feb', 'Apr', 'Mar']\n",
      "['Mar', 'May', 'Jun', 'Jul', 'Aug', 'Jan']\n",
      "['Jun', 'Jul', 'Aug', 'Jan']\n",
      "['Apr', 'May', 'Jul']\n",
      "[]\n",
      "['Apr', 'Mar', 'May', 'Jun', 'Jul', 'Aug']\n",
      "['Jan', 'Jul', 'May', 'Apr']\n",
      "['Feb', 'Apr', 'Mar', 'May']\n"
     ]
    }
   ],
   "source": [
    "#QNo11\n",
    "\n",
    "X=[\"Feb\",'Apr','Mar','May','Jun','Jul','Aug','Jan']\n",
    "print(X[0:3])\n",
    "print(X[2:8])\n",
    "print(X[4:9])\n",
    "print(X[1:7:2])\n",
    "print(X[-1:-7])\n",
    "print(X[-7:7])\n",
    "print(X[-1:-8:-2])\n",
    "print(X[:4])"
   ]
  },
  {
   "cell_type": "code",
   "execution_count": 7,
   "metadata": {},
   "outputs": [
    {
     "name": "stdout",
     "output_type": "stream",
     "text": [
      "[2, 8, 4, 5]\n"
     ]
    }
   ],
   "source": [
    "#QNo12 \n",
    "\n",
    "X=[9,2,8,4,5]\n",
    "X.remove(9)\n",
    "print(X)"
   ]
  },
  {
   "cell_type": "code",
   "execution_count": 8,
   "metadata": {},
   "outputs": [
    {
     "name": "stdout",
     "output_type": "stream",
     "text": [
      "hello!hello!hello!\n"
     ]
    }
   ],
   "source": [
    "#QNo13\n",
    "p=3\n",
    "q='hello!'\n",
    "print(q*p)"
   ]
  },
  {
   "cell_type": "code",
   "execution_count": 9,
   "metadata": {},
   "outputs": [
    {
     "name": "stdout",
     "output_type": "stream",
     "text": [
      "THIS IS A RANDON SENTENCE\n"
     ]
    }
   ],
   "source": [
    "#QNO14\n",
    "y='this is a randon sentence'\n",
    "print(y.upper())"
   ]
  },
  {
   "cell_type": "code",
   "execution_count": 10,
   "metadata": {},
   "outputs": [
    {
     "name": "stdout",
     "output_type": "stream",
     "text": [
      "<class 'bool'>\n",
      "<class 'str'>\n",
      "<class 'int'>\n",
      "<class 'float'>\n"
     ]
    }
   ],
   "source": [
    "#QNO15\n",
    "p=True\n",
    "q='True'\n",
    "r=2\n",
    "s=2.0\n",
    "print(type(p))\n",
    "print(type(q))\n",
    "print(type(r))\n",
    "print(type(s))"
   ]
  },
  {
   "cell_type": "code",
   "execution_count": 11,
   "metadata": {},
   "outputs": [],
   "source": [
    "#QNo16 2)"
   ]
  },
  {
   "cell_type": "code",
   "execution_count": 12,
   "metadata": {},
   "outputs": [],
   "source": [
    "#QNo17 4)"
   ]
  },
  {
   "cell_type": "code",
   "execution_count": 13,
   "metadata": {},
   "outputs": [
    {
     "name": "stdout",
     "output_type": "stream",
     "text": [
      "0\n",
      "2.0\n",
      "2\n"
     ]
    }
   ],
   "source": [
    "#QNo18 \n",
    "X=4\n",
    "Y=2\n",
    "print(X%Y)\n",
    "print(X/Y)\n",
    "print(X//Y)\n"
   ]
  },
  {
   "cell_type": "code",
   "execution_count": 17,
   "metadata": {},
   "outputs": [
    {
     "name": "stdout",
     "output_type": "stream",
     "text": [
      "4\n",
      "1\n",
      "1\n",
      "5\n",
      "9\n",
      "0\n",
      "4\n",
      "1\n",
      "1\n",
      "5\n",
      "9\n",
      "0\n"
     ]
    }
   ],
   "source": [
    "#QNO19a\n",
    "x=[[4,1,1],[5,9,0]]\n",
    "for i in x:\n",
    "    for j in i:\n",
    "        print(j)\n",
    "for i in x:\n",
    "    for j in i:\n",
    "        print(j,,sep=\"\\t\")"
   ]
  },
  {
   "cell_type": "code",
   "execution_count": 12,
   "metadata": {},
   "outputs": [
    {
     "name": "stdout",
     "output_type": "stream",
     "text": [
      "4\t5\t\n",
      "\n",
      "1\t9\t\n",
      "\n",
      "1\t0\t\n",
      "\n"
     ]
    }
   ],
   "source": [
    "#QNO19b\n",
    "x=[[4,1,1],[5,9,0]]\n",
    "for i in range (0,3):\n",
    "    for j in range(0,2):\n",
    "        print(x[j][i], end='\\t')\n",
    "    print('\\n')\n"
   ]
  },
  {
   "cell_type": "code",
   "execution_count": 14,
   "metadata": {},
   "outputs": [
    {
     "name": "stdout",
     "output_type": "stream",
     "text": [
      "4\t1\t1\t5\t9\t0\t"
     ]
    }
   ],
   "source": [
    "#QNO19c\n",
    "x=[[4,1,1],[5,9,0]]\n",
    "for i in range (0,2):\n",
    "    for j in range(0,3):\n",
    "        print(x[i][j], end='\\t')\n"
   ]
  },
  {
   "cell_type": "code",
   "execution_count": 4,
   "metadata": {},
   "outputs": [
    {
     "name": "stdout",
     "output_type": "stream",
     "text": [
      "item0- 10.62\n",
      "item1- 16.14\n",
      "item2- 6.45\n",
      "item3- 17.11\n"
     ]
    }
   ],
   "source": [
    "#QNo20 3)\n",
    "q=[10.62,16.14,6.45,17.11]\n",
    "for j,z in enumerate(q):\n",
    "    print('item'+str(j)+\"-\",str(z)) "
   ]
  },
  {
   "cell_type": "code",
   "execution_count": 6,
   "metadata": {},
   "outputs": [],
   "source": [
    "#QNo21 b , d\n"
   ]
  },
  {
   "cell_type": "code",
   "execution_count": 7,
   "metadata": {},
   "outputs": [
    {
     "name": "stdout",
     "output_type": "stream",
     "text": [
      "{0: 1, 1: 1, 2: 1}\n"
     ]
    }
   ],
   "source": [
    "#QNo22 a)\n",
    "D=dict()\n",
    "for i in range(3):\n",
    "    for j in range(2):\n",
    "        D[i]=j\n",
    "print(D)\n"
   ]
  },
  {
   "cell_type": "code",
   "execution_count": 8,
   "metadata": {},
   "outputs": [],
   "source": [
    "#QNO23     True    True    False"
   ]
  },
  {
   "cell_type": "code",
   "execution_count": 9,
   "metadata": {},
   "outputs": [
    {
     "name": "stdout",
     "output_type": "stream",
     "text": [
      "11.333333333333334\n"
     ]
    }
   ],
   "source": [
    "#QNO24 \n",
    "def avg(x,y,z=50):\n",
    "    adding=x+y+z\n",
    "    avg_value=adding/3\n",
    "    return avg_value\n",
    "y=avg(x=5,y=9,z=20)\n",
    "print(y)"
   ]
  },
  {
   "cell_type": "code",
   "execution_count": 11,
   "metadata": {},
   "outputs": [],
   "source": [
    "#QNO25   output   (Error because The pointer will get all the values and second parameter will not be able to get one)\n"
   ]
  },
  {
   "cell_type": "code",
   "execution_count": 12,
   "metadata": {},
   "outputs": [],
   "source": [
    "#QNO28  b)"
   ]
  },
  {
   "cell_type": "code",
   "execution_count": 13,
   "metadata": {},
   "outputs": [],
   "source": [
    "#QNO29   c)"
   ]
  },
  {
   "cell_type": "code",
   "execution_count": 14,
   "metadata": {},
   "outputs": [],
   "source": [
    "#QNO30  d)"
   ]
  },
  {
   "cell_type": "code",
   "execution_count": 29,
   "metadata": {},
   "outputs": [],
   "source": [
    "#QNO31  Output (No output)"
   ]
  },
  {
   "cell_type": "code",
   "execution_count": 16,
   "metadata": {},
   "outputs": [],
   "source": [
    "#QNO32  Output ( a a a a a a)"
   ]
  },
  {
   "cell_type": "code",
   "execution_count": 17,
   "metadata": {},
   "outputs": [],
   "source": [
    "#QNO33   Output (Error)"
   ]
  },
  {
   "cell_type": "code",
   "execution_count": 19,
   "metadata": {},
   "outputs": [],
   "source": [
    "#QNO34   Output ( 0 1 2 3 4)"
   ]
  },
  {
   "cell_type": "code",
   "execution_count": 20,
   "metadata": {},
   "outputs": [],
   "source": [
    "#QNO35  Output (Error Lambad Expression is a one line fuction)"
   ]
  },
  {
   "cell_type": "code",
   "execution_count": 21,
   "metadata": {},
   "outputs": [
    {
     "name": "stdout",
     "output_type": "stream",
     "text": [
      "2\n"
     ]
    }
   ],
   "source": [
    "#QNO36\n",
    "i=0\n",
    "def change(i):\n",
    "    i=i+1\n",
    "    return i\n",
    "b= change(1)\n",
    "print(b)"
   ]
  },
  {
   "cell_type": "code",
   "execution_count": 26,
   "metadata": {},
   "outputs": [],
   "source": [
    "#QNO40   Output  (  <class 'tuple'>  (2, 3, 4) )"
   ]
  },
  {
   "cell_type": "code",
   "execution_count": 27,
   "metadata": {},
   "outputs": [],
   "source": [
    "#QNO41  Output   (  <class 'dict'>  )"
   ]
  },
  {
   "cell_type": "code",
   "execution_count": 28,
   "metadata": {},
   "outputs": [],
   "source": [
    "#QNO42  Output  (Error)"
   ]
  },
  {
   "cell_type": "code",
   "execution_count": 30,
   "metadata": {},
   "outputs": [],
   "source": [
    "#QNO43 Output  (15)"
   ]
  },
  {
   "cell_type": "code",
   "execution_count": 34,
   "metadata": {},
   "outputs": [],
   "source": [
    "#QNO44   C)"
   ]
  },
  {
   "cell_type": "code",
   "execution_count": 32,
   "metadata": {},
   "outputs": [],
   "source": [
    "#QNO45    A) C)"
   ]
  },
  {
   "cell_type": "code",
   "execution_count": 1,
   "metadata": {},
   "outputs": [
    {
     "name": "stdin",
     "output_type": "stream",
     "text": [
      "Enter your Marks:   92\n"
     ]
    },
    {
     "name": "stdout",
     "output_type": "stream",
     "text": [
      "Grade A\n"
     ]
    }
   ],
   "source": [
    "#QNO46\n",
    "marks = int(input(\"Enter your Marks:  \"))\n",
    "if(marks >= 90):\n",
    "    print(\"Grade A\")\n",
    "elif(marks >= 80 and marks <= 90):\n",
    "    print(\"Grade B\")\n",
    "elif(marks >= 70 and marks <= 80):\n",
    "    print(\"Grade C\")\n",
    "elif(marks >= 60 and marks <= 70):\n",
    "    print(\"Grade D\")\n",
    "elif(marks <= 60):\n",
    "    print(\"Grade E\")"
   ]
  },
  {
   "cell_type": "code",
   "execution_count": null,
   "metadata": {},
   "outputs": [],
   "source": []
  }
 ],
 "metadata": {
  "kernelspec": {
   "display_name": "Python 3",
   "language": "python",
   "name": "python3"
  },
  "language_info": {
   "codemirror_mode": {
    "name": "ipython",
    "version": 3
   },
   "file_extension": ".py",
   "mimetype": "text/x-python",
   "name": "python",
   "nbconvert_exporter": "python",
   "pygments_lexer": "ipython3",
   "version": "3.7.3"
  }
 },
 "nbformat": 4,
 "nbformat_minor": 4
}
